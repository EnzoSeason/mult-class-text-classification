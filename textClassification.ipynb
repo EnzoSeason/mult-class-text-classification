{
 "cells": [
  {
   "cell_type": "markdown",
   "metadata": {},
   "source": [
    "# Tweet Classification for Limportant\n"
   ]
  },
  {
   "cell_type": "markdown",
   "metadata": {},
   "source": [
    "### Try to put the tweet into one of 13 categories by machine learning"
   ]
  },
  {
   "cell_type": "code",
   "execution_count": 87,
   "metadata": {},
   "outputs": [
    {
     "name": "stdout",
     "output_type": "stream",
     "text": [
      "['.DS_Store', 'tweet_extract.csv', 'Classeur1.csv', 'test2.csv', 'data_export_2018-05-29.csv', '.Rapp.history']\n"
     ]
    }
   ],
   "source": [
    "import os\n",
    "print(os.listdir(\"./data\"))"
   ]
  },
  {
   "cell_type": "code",
   "execution_count": 88,
   "metadata": {},
   "outputs": [],
   "source": [
    "import pandas as pd\n",
    "import numpy as np"
   ]
  },
  {
   "cell_type": "code",
   "execution_count": 110,
   "metadata": {},
   "outputs": [],
   "source": [
    "# Loading data\n",
    "all_data = pd.read_csv(\"./data/data_export_2018-05-29.csv\", engine='python')"
   ]
  },
  {
   "cell_type": "code",
   "execution_count": 111,
   "metadata": {},
   "outputs": [
    {
     "data": {
      "text/html": [
       "<div>\n",
       "<style scoped>\n",
       "    .dataframe tbody tr th:only-of-type {\n",
       "        vertical-align: middle;\n",
       "    }\n",
       "\n",
       "    .dataframe tbody tr th {\n",
       "        vertical-align: top;\n",
       "    }\n",
       "\n",
       "    .dataframe thead th {\n",
       "        text-align: right;\n",
       "    }\n",
       "</style>\n",
       "<table border=\"1\" class=\"dataframe\">\n",
       "  <thead>\n",
       "    <tr style=\"text-align: right;\">\n",
       "      <th></th>\n",
       "      <th>text</th>\n",
       "      <th>category_id</th>\n",
       "    </tr>\n",
       "  </thead>\n",
       "  <tbody>\n",
       "    <tr>\n",
       "      <th>0</th>\n",
       "      <td>Simone Veil : désormais une station du métro p...</td>\n",
       "      <td>4</td>\n",
       "    </tr>\n",
       "    <tr>\n",
       "      <th>1</th>\n",
       "      <td>«Grand monsieur» ou «clientéliste»: avis contr...</td>\n",
       "      <td>4</td>\n",
       "    </tr>\n",
       "    <tr>\n",
       "      <th>2</th>\n",
       "      <td>Corse : saccage volontaire de 1600 clémentinie...</td>\n",
       "      <td>4</td>\n",
       "    </tr>\n",
       "    <tr>\n",
       "      <th>3</th>\n",
       "      <td>NaN</td>\n",
       "      <td>4</td>\n",
       "    </tr>\n",
       "    <tr>\n",
       "      <th>4</th>\n",
       "      <td>Un ordinateur meilleur que les dermatologues p...</td>\n",
       "      <td>5</td>\n",
       "    </tr>\n",
       "  </tbody>\n",
       "</table>\n",
       "</div>"
      ],
      "text/plain": [
       "                                                text  category_id\n",
       "0  Simone Veil : désormais une station du métro p...            4\n",
       "1  «Grand monsieur» ou «clientéliste»: avis contr...            4\n",
       "2  Corse : saccage volontaire de 1600 clémentinie...            4\n",
       "3                                                NaN            4\n",
       "4  Un ordinateur meilleur que les dermatologues p...            5"
      ]
     },
     "execution_count": 111,
     "metadata": {},
     "output_type": "execute_result"
    }
   ],
   "source": [
    "all_data.head()"
   ]
  },
  {
   "cell_type": "markdown",
   "metadata": {},
   "source": [
    "we drop the nan rows."
   ]
  },
  {
   "cell_type": "code",
   "execution_count": 112,
   "metadata": {},
   "outputs": [],
   "source": [
    "all_data.dropna(subset=['text'],inplace=True)"
   ]
  },
  {
   "cell_type": "code",
   "execution_count": 113,
   "metadata": {},
   "outputs": [
    {
     "name": "stdout",
     "output_type": "stream",
     "text": [
      "<class 'pandas.core.frame.DataFrame'>\n",
      "Int64Index: 18717 entries, 0 to 19998\n",
      "Data columns (total 2 columns):\n",
      "text           18717 non-null object\n",
      "category_id    18717 non-null int64\n",
      "dtypes: int64(1), object(1)\n",
      "memory usage: 438.7+ KB\n"
     ]
    }
   ],
   "source": [
    "all_data.info()"
   ]
  },
  {
   "cell_type": "code",
   "execution_count": 114,
   "metadata": {},
   "outputs": [
    {
     "data": {
      "image/png": "[encoded data removed]",
      "text/plain": [
       "<matplotlib.figure.Figure at 0x10b8975f8>"
      ]
     },
     "metadata": {},
     "output_type": "display_data"
    }
   ],
   "source": [
    "import matplotlib.pyplot as plt\n",
    "fig = plt.figure(figsize=(8,6))\n",
    "all_data.groupby('category_id').text.count().plot.bar(ylim=0)\n",
    "plt.show()"
   ]
  },
  {
   "cell_type": "markdown",
   "metadata": {},
   "source": [
    "# 1. Preparing data"
   ]
  },
  {
   "cell_type": "code",
   "execution_count": 115,
   "metadata": {},
   "outputs": [
    {
     "data": {
      "image/png": "[encoded data removed]",
      "text/plain": [
       "<matplotlib.figure.Figure at 0x1a1b67a160>"
      ]
     },
     "metadata": {},
     "output_type": "display_data"
    }
   ],
   "source": [
    "# drop the partenaires, which are 57,59,73,80,93,107\n",
    "# tranform category_id into [0,12] \n",
    "\n",
    "all_data.loc[all_data['category_id'] == 57, 'text'] = np.nan\n",
    "all_data.loc[all_data['category_id'] == 59, 'text'] = np.nan\n",
    "all_data.loc[all_data['category_id'] == 73, 'text'] = np.nan\n",
    "all_data.loc[all_data['category_id'] == 80, 'text'] = np.nan\n",
    "all_data.loc[all_data['category_id'] == 93, 'text'] = np.nan\n",
    "all_data.loc[all_data['category_id'] == 107, 'text'] = np.nan\n",
    "\n",
    "all_data.dropna(subset=['text'],inplace=True)\n",
    "\n",
    "all_data.loc[all_data['category_id'] == 50, 'category_id'] = 10\n",
    "all_data.loc[all_data['category_id'] == 56, 'category_id'] = 11\n",
    "all_data.loc[all_data['category_id'] == 69, 'category_id'] = 12\n",
    "all_data.loc[all_data['category_id'] == 101, 'category_id'] = 0\n",
    "\n",
    "fig = plt.figure(figsize=(8,6))\n",
    "all_data.groupby('category_id').text.count().plot.bar(ylim=0)\n",
    "plt.show()"
   ]
  },
  {
   "cell_type": "code",
   "execution_count": 116,
   "metadata": {},
   "outputs": [
    {
     "name": "stdout",
     "output_type": "stream",
     "text": [
      "[nltk_data] Downloading package stopwords to\n",
      "[nltk_data]     /Users/enzoliu/nltk_data...\n",
      "[nltk_data]   Package stopwords is already up-to-date!\n",
      "{'eût', 'tes', 'most', 'am', 'their', 'are', 'qui', 'seront', 'same', 'était', 'elle', 'ayantes', 'serez', 'fût', 'yourselves', 'this', 'doing', 'leur', 'avions', 'ne', 'ton', 'aurez', 'after', 'eûtes', 'sa', \"won't\", 'haven', 'some', 'doesn', \"it's\", 'es', 'aurions', 'eussions', 'aient', 'eussent', 'just', \"should've\", 'only', 'étions', 'few', 'eus', \"that'll\", 'then', 'sois', 'ce', 'theirs', 'below', 'these', 'eurent', 'eue', 'further', 'étées', 'te', 'eu', 'auras', 'étantes', 'ces', 'over', 'as', 'for', 'its', 'while', 'where', 'aurons', 'eut', 'through', \"you'll\", 'eues', 'que', 'serai', 'auront', 'yours', 'êtes', 'aura', 'be', 'and', \"aren't\", 'in', 'aurais', 'à', 'ai', 'sont', 'par', 'fus', 'vos', 'n', 'been', 'such', 'hers', 'other', 'or', 'avec', 'o', \"needn't\", 'above', 'he', 'furent', \"doesn't\", 'again', 'were', 'eusse', 'j', 'ses', 'under', 'the', 'with', 'wouldn', 've', 'nous', 'how', 'her', 'who', 'aren', 'more', 'sur', 'auraient', 'because', 'ayante', 'du', 'mais', 'ou', 'between', 'herself', 'qu', 'ayez', 'too', 'étés', 'pas', 'serais', 'avez', 'au', 'those', 'moi', 'ain', \"mustn't\", 'very', 'during', 'serions', ':', 'itself', 'before', 'weren', 'i', 'tu', 'from', 'll', 'him', 'soient', 'sommes', 'aurait', 'why', 'se', 'them', 'an', 'when', 'couldn', 'each', 'fussions', 'all', 'it', 's', 'toi', 'ayons', 'nos', 'aies', 'des', 'me', 'has', \"shouldn't\", \"wasn't\", 'to', 'can', 'now', 'wasn', 'de', 'eusses', 'seras', 'himself', 'is', 'any', 'en', 'un', 'soyez', 'fusse', 'eussiez', \"weren't\", \"you're\", 'c', 'don', 'fussent', 'but', 'ma', 'my', 'down', 'by', 'his', 'you', 'shouldn', 't', 'against', 'd', 'est', 'not', 'at', 'have', 'we', \"mightn't\", 'avaient', 'myself', 'm', 'ont', 'isn', 'il', 'themselves', 'ayant', 'a', 'y', 'suis', 'étais', 'mes', 'été', 'étaient', 'mustn', 'soyons', 'mon', 'there', 'mightn', 'dans', 'our', 'eûmes', 'vous', 'auriez', 'étante', 'votre', 'if', 'et', \"wouldn't\", 'no', 'hadn', 'what', 'même', \"didn't\", 'of', 'étiez', 'until', 'fûmes', \"you'd\", 'up', 'aie', 'which', 'le', 'on', 'your', 'into', 'l', 'aux', 'she', 'out', 'aviez', \"hasn't\", 'pour', 'je', 'yourself', 'about', 'won', 'seraient', 'ours', 'nor', 'son', \"couldn't\", 'should', \"haven't\", 'did', 'serait', 'here', 'does', 'soit', 'serons', 'seriez', 'own', 'la', 'aurai', 'avais', 'ta', 'will', 'lui', \"she's\", 'étants', 'once', 'didn', 'needn', 'off', 'ait', 're', 'notre', 'having', 'ayants', 'avons', 'ourselves', 'they', \"isn't\", 'whom', \"shan't\", 'fut', 'fusses', 'shan', 'so', 'eux', 'both', 'than', \"don't\", 'that', 'avait', 'do', 'had', 'being', 'was', \"hadn't\", 'sera', 'étée', \"you've\", 'une', 'fûtes', 'hasn', 'étant', 'fussiez'}\n"
     ]
    }
   ],
   "source": [
    "# Create stopWords\n",
    "import nltk\n",
    "nltk.download('stopwords')\n",
    "from nltk.corpus import stopwords\n",
    "stopWords_fr = set(stopwords.words('french'))\n",
    "stopWords_en = set(stopwords.words('english'))\n",
    "stopWords = stopWords_en | stopWords_fr | set(':')\n",
    "print(stopWords)"
   ]
  },
  {
   "cell_type": "code",
   "execution_count": 117,
   "metadata": {},
   "outputs": [],
   "source": [
    "# Create Features and Labels\n",
    "from sklearn.feature_extraction.text import CountVectorizer\n",
    "from sklearn.feature_extraction.text import TfidfTransformer\n",
    "\n",
    "count_vect = CountVectorizer( analyzer=u'word', stop_words=stopWords, ngram_range = (1,2))\n",
    "tfidf_transformer = TfidfTransformer(norm='l2', sublinear_tf=True)\n",
    "\n",
    "# First, we transform the text into vector, which show how many times each word shows\n",
    "features_counts = count_vect.fit_transform(all_data['text'])\n",
    "\n",
    "# Second, we add weight for each word. It conside 2 part.\n",
    "# Part 1, Term Frequency，TF, shows how many times each words shows in the text\n",
    "# Part 2, Inverse Document Frequency，IDF, log(nb_of_text_has_the_word/nb_of_all_text)\n",
    "# tfidf = tf-idf(q, d) = sum { i = 1..k | tf-idf(w[i], d) } = sum { i = 1..k | tf(w[i], d) * idf(w[i]) }\n",
    "features = tfidf_transformer.fit_transform(features_counts)\n",
    "\n",
    "labels = all_data['category_id']"
   ]
  },
  {
   "cell_type": "markdown",
   "metadata": {},
   "source": [
    "# 2. Modeling"
   ]
  },
  {
   "cell_type": "markdown",
   "metadata": {},
   "source": [
    "### 2.1 Model section"
   ]
  },
  {
   "cell_type": "code",
   "execution_count": 176,
   "metadata": {},
   "outputs": [
    {
     "data": {
      "text/plain": [
       "model_name\n",
       "LinearSVC                      0.669447\n",
       "LogisticRegression             0.516849\n",
       "PassiveAggressiveClassifier    0.669835\n",
       "Perceptron                     0.608124\n",
       "SGDClassifier                  0.666957\n",
       "Name: accuracy, dtype: float64"
      ]
     },
     "execution_count": 176,
     "metadata": {},
     "output_type": "execute_result"
    }
   ],
   "source": [
    "# Model Section\n",
    "from sklearn.linear_model import LogisticRegression, Perceptron, SGDClassifier, PassiveAggressiveClassifier\n",
    "from sklearn.svm import LinearSVC, SVC\n",
    "\n",
    "from sklearn.model_selection import cross_val_score,StratifiedKFold\n",
    "\n",
    "# choose Multiclass as One-Vs-All in sklearn for its strong performance in our project\n",
    "models = [\n",
    "    Perceptron(random_state=0,max_iter=5),\n",
    "    SGDClassifier(random_state=0,max_iter=5),\n",
    "    PassiveAggressiveClassifier(random_state=0,max_iter=5),\n",
    "    LinearSVC(random_state=0),\n",
    "    LogisticRegression(random_state=0),\n",
    "]\n",
    "CV = StratifiedKFold(n_splits=5)\n",
    "entries = []\n",
    "\n",
    "for model in models:\n",
    "  model_name = model.__class__.__name__\n",
    "  accuracies = cross_val_score(model, features, labels, scoring='accuracy', cv=CV)\n",
    "  for fold_idx, accuracy in enumerate(accuracies):\n",
    "    entries.append((model_name, fold_idx, accuracy))\n",
    "cv_df = pd.DataFrame(entries, columns=['model_name', 'fold_idx', 'accuracy'])\n",
    "\n",
    "cv_df.groupby('model_name').accuracy.mean()"
   ]
  },
  {
   "cell_type": "markdown",
   "metadata": {},
   "source": [
    "We can see LinearSVC, PassiveAggressiveClassifier, SGDClassifier do a great job, we will use LinearSVC to build our model as a first try.\n",
    "\n",
    "### 2.2 Model building"
   ]
  },
  {
   "cell_type": "code",
   "execution_count": 123,
   "metadata": {},
   "outputs": [
    {
     "name": "stdout",
     "output_type": "stream",
     "text": [
      "             precision    recall  f1-score   support\n",
      "\n",
      "          0       0.79      0.86      0.83       107\n",
      "          1       0.57      0.62      0.59       118\n",
      "          2       0.66      0.58      0.62       254\n",
      "          3       0.63      0.78      0.70       575\n",
      "          4       0.69      0.71      0.70       323\n",
      "          5       0.73      0.53      0.61       193\n",
      "          6       0.73      0.64      0.68       327\n",
      "          7       0.69      0.69      0.69       247\n",
      "          8       0.90      0.70      0.79       106\n",
      "          9       0.57      0.58      0.57       522\n",
      "         10       0.82      0.74      0.78       243\n",
      "         11       0.68      0.69      0.69       396\n",
      "         12       0.83      0.84      0.83       203\n",
      "\n",
      "avg / total       0.69      0.68      0.68      3614\n",
      "\n"
     ]
    }
   ],
   "source": [
    "# we use LinearSVC\n",
    "from sklearn.feature_extraction.text import CountVectorizer\n",
    "from sklearn.feature_extraction.text import TfidfTransformer\n",
    "from sklearn.model_selection import train_test_split\n",
    "from sklearn import metrics\n",
    "\n",
    "X_train, X_test, y_train, y_test = train_test_split(all_data['text'], all_data['category_id'], test_size=0.2,random_state = 0)\n",
    "\n",
    "X_train_counts = count_vect.fit_transform(X_train)\n",
    "X_train_tfidf = tfidf_transformer.fit_transform(X_train_counts)\n",
    "\n",
    "clf = LinearSVC().fit(X_train_tfidf, y_train)\n",
    "\n",
    "y_pre = clf.predict(tfidf_transformer.fit_transform(count_vect.transform(X_test)))\n",
    "print(metrics.classification_report(y_test, y_pre))"
   ]
  },
  {
   "cell_type": "markdown",
   "metadata": {},
   "source": [
    "- Precision = (the number of right tweets the model puts in this category) / (all the tweets the model puts in this category)\n",
    "\n",
    "- Recall = (the number of right tweets of this category) / (all the right tweets in this category)\n",
    "\n",
    "It's better to check the full-score, we know the model scores 0.68/1.00. Just so so. "
   ]
  },
  {
   "cell_type": "code",
   "execution_count": 170,
   "metadata": {
    "scrolled": true
   },
   "outputs": [
    {
     "name": "stdout",
     "output_type": "stream",
     "text": [
      "  (0, 261939)\t0.31622776601683794\n",
      "  (0, 252574)\t0.31622776601683794\n",
      "  (0, 213284)\t0.31622776601683794\n",
      "  (0, 213281)\t0.31622776601683794\n",
      "  (0, 198258)\t0.31622776601683794\n",
      "  (0, 198012)\t0.31622776601683794\n",
      "  (0, 187034)\t0.31622776601683794\n",
      "  (0, 186998)\t0.31622776601683794\n",
      "  (0, 153607)\t0.31622776601683794\n",
      "  (0, 107552)\t0.31622776601683794\n",
      "[4]\n"
     ]
    }
   ],
   "source": [
    "# simple try\n",
    "word_count = count_vect.transform([\"Paris : sur les 302 stations seulement 4 portent le nom d'une femme\"])\n",
    "word_tfidf = tfidf_transformer.fit_transform(word_count)\n",
    "print(word_tfidf)\n",
    "print(clf.predict(word_tfidf))"
   ]
  },
  {
   "cell_type": "markdown",
   "metadata": {},
   "source": [
    "#### Now, let's try PassiveAggressiveClassifier and SGDClassifier, which are also not bad"
   ]
  },
  {
   "cell_type": "code",
   "execution_count": 178,
   "metadata": {},
   "outputs": [
    {
     "name": "stdout",
     "output_type": "stream",
     "text": [
      "             precision    recall  f1-score   support\n",
      "\n",
      "          0       0.78      0.84      0.81       107\n",
      "          1       0.56      0.59      0.58       118\n",
      "          2       0.63      0.57      0.60       254\n",
      "          3       0.63      0.76      0.69       575\n",
      "          4       0.69      0.70      0.70       323\n",
      "          5       0.73      0.56      0.64       193\n",
      "          6       0.73      0.65      0.69       327\n",
      "          7       0.69      0.69      0.69       247\n",
      "          8       0.88      0.72      0.79       106\n",
      "          9       0.57      0.57      0.57       522\n",
      "         10       0.81      0.75      0.78       243\n",
      "         11       0.68      0.68      0.68       396\n",
      "         12       0.81      0.84      0.83       203\n",
      "\n",
      "avg / total       0.68      0.68      0.68      3614\n",
      "\n"
     ]
    }
   ],
   "source": [
    "# PassiveAggressiveClassifier\n",
    "clf =PassiveAggressiveClassifier(max_iter=5).fit(X_train_tfidf, y_train)\n",
    "\n",
    "y_pre = clf.predict(tfidf_transformer.fit_transform(count_vect.transform(X_test)))\n",
    "print(metrics.classification_report(y_test, y_pre))"
   ]
  },
  {
   "cell_type": "code",
   "execution_count": 179,
   "metadata": {},
   "outputs": [
    {
     "name": "stdout",
     "output_type": "stream",
     "text": [
      "             precision    recall  f1-score   support\n",
      "\n",
      "          0       0.76      0.93      0.84       107\n",
      "          1       0.57      0.61      0.59       118\n",
      "          2       0.65      0.56      0.60       254\n",
      "          3       0.63      0.77      0.69       575\n",
      "          4       0.66      0.69      0.67       323\n",
      "          5       0.72      0.53      0.61       193\n",
      "          6       0.73      0.65      0.69       327\n",
      "          7       0.68      0.70      0.69       247\n",
      "          8       0.90      0.75      0.81       106\n",
      "          9       0.61      0.54      0.57       522\n",
      "         10       0.82      0.75      0.78       243\n",
      "         11       0.66      0.71      0.68       396\n",
      "         12       0.81      0.86      0.83       203\n",
      "\n",
      "avg / total       0.68      0.68      0.68      3614\n",
      "\n"
     ]
    }
   ],
   "source": [
    "# SGDClassifier\n",
    "clf = SGDClassifier(max_iter=5).fit(X_train_tfidf, y_train)\n",
    "\n",
    "y_pre = clf.predict(tfidf_transformer.fit_transform(count_vect.transform(X_test)))\n",
    "print(metrics.classification_report(y_test, y_pre))"
   ]
  },
  {
   "cell_type": "code",
   "execution_count": 151,
   "metadata": {},
   "outputs": [
    {
     "name": "stdout",
     "output_type": "stream",
     "text": [
      "[0]\ttrain-merror:0.57988\ttest-merror:0.622025\n",
      "[1]\ttrain-merror:0.575728\ttest-merror:0.617598\n",
      "[2]\ttrain-merror:0.574068\ttest-merror:0.617322\n",
      "[3]\ttrain-merror:0.570539\ttest-merror:0.614001\n",
      "[4]\ttrain-merror:0.570331\ttest-merror:0.613448\n",
      "[5]\ttrain-merror:0.568532\ttest-merror:0.608467\n",
      "[6]\ttrain-merror:0.564174\ttest-merror:0.608744\n",
      "[7]\ttrain-merror:0.559538\ttest-merror:0.604593\n",
      "[8]\ttrain-merror:0.557116\ttest-merror:0.600166\n",
      "[9]\ttrain-merror:0.552757\ttest-merror:0.595185\n",
      "             precision    recall  f1-score   support\n",
      "\n",
      "          0       0.54      0.89      0.67       107\n",
      "          1       0.39      0.48      0.43       118\n",
      "          2       0.59      0.26      0.36       254\n",
      "          3       0.23      0.72      0.35       575\n",
      "          4       0.56      0.35      0.43       323\n",
      "          5       0.58      0.29      0.39       193\n",
      "          6       0.63      0.20      0.31       327\n",
      "          7       0.62      0.39      0.48       247\n",
      "          8       0.75      0.42      0.54       106\n",
      "          9       0.39      0.25      0.30       522\n",
      "         10       0.80      0.43      0.56       243\n",
      "         11       0.66      0.24      0.35       396\n",
      "         12       0.86      0.63      0.73       203\n",
      "\n",
      "avg / total       0.54      0.40      0.41      3614\n",
      "\n"
     ]
    }
   ],
   "source": [
    "# try the most popular model in kaggle xgboost\n",
    "import xgboost as xgb\n",
    "\n",
    "xg_train = xgb.DMatrix(X_train_tfidf, label=y_train)\n",
    "xg_test = xgb.DMatrix(tfidf_transformer.fit_transform(count_vect.transform(X_test)), label=y_test)\n",
    "# setup parameters for xgboost\n",
    "param = {}\n",
    "# use softmax multi-class classification\n",
    "param['objective'] = 'multi:softmax'\n",
    "# scale weight of positive examples\n",
    "param['eta'] = 0.01\n",
    "param['max_depth'] = 6\n",
    "param['silent'] = 1\n",
    "param['num_class'] = 13\n",
    "\n",
    "watchlist = [(xg_train, 'train'), (xg_test, 'test')]\n",
    "num_round = 10\n",
    "bst = xgb.train(param, xg_train, num_round, watchlist)\n",
    "# get prediction\n",
    "y_pre = bst.predict(xg_test)\n",
    "print(metrics.classification_report(y_test, y_pre))\n"
   ]
  },
  {
   "cell_type": "markdown",
   "metadata": {},
   "source": [
    "ok, it's terrible in our project, we leave it alone and move on !\n",
    "\n",
    "### 2.3 Hyperparameter tunning for best models\n",
    "\n",
    "It seems the three models have the score 0.66 in Model Selection. I will use Gridsearch to find the best hyperparameter for the models."
   ]
  },
  {
   "cell_type": "code",
   "execution_count": 152,
   "metadata": {},
   "outputs": [],
   "source": [
    "from sklearn.model_selection import GridSearchCV"
   ]
  },
  {
   "cell_type": "code",
   "execution_count": 171,
   "metadata": {},
   "outputs": [
    {
     "name": "stdout",
     "output_type": "stream",
     "text": [
      "Fitting 5 folds for each of 6 candidates, totalling 30 fits\n"
     ]
    },
    {
     "name": "stderr",
     "output_type": "stream",
     "text": [
      "[Parallel(n_jobs=4)]: Done  30 out of  30 | elapsed:   44.4s finished\n"
     ]
    },
    {
     "data": {
      "text/plain": [
       "0.6733550128001107"
      ]
     },
     "execution_count": 171,
     "metadata": {},
     "output_type": "execute_result"
    }
   ],
   "source": [
    "# LinearSVC\n",
    "\n",
    "LSVC = LinearSVC()\n",
    "# C : Penalty parameter C of the error term\n",
    "param_grid = {\n",
    "    \"C\":[0.01, 0.03, 0.1, 0.3, 1.0, 3.0]\n",
    "}\n",
    "\n",
    "gsLSVC = GridSearchCV(LSVC, param_grid = param_grid, cv=CV, scoring=\"accuracy\", n_jobs= 4, verbose = 1)\n",
    "\n",
    "gsLSVC.fit(X_train_tfidf, y_train)\n",
    "\n",
    "LSVC_best = gsLSVC.best_estimator_\n",
    "\n",
    "gsLSVC.best_score_"
   ]
  },
  {
   "cell_type": "code",
   "execution_count": 173,
   "metadata": {},
   "outputs": [
    {
     "name": "stdout",
     "output_type": "stream",
     "text": [
      "Fitting 5 folds for each of 40 candidates, totalling 200 fits\n"
     ]
    },
    {
     "name": "stderr",
     "output_type": "stream",
     "text": [
      "[Parallel(n_jobs=4)]: Done  42 tasks      | elapsed:   21.2s\n",
      "[Parallel(n_jobs=4)]: Done 192 tasks      | elapsed:  1.6min\n",
      "[Parallel(n_jobs=4)]: Done 200 out of 200 | elapsed:  1.7min finished\n"
     ]
    },
    {
     "data": {
      "text/plain": [
       "0.6716252681104269"
      ]
     },
     "execution_count": 173,
     "metadata": {},
     "output_type": "execute_result"
    }
   ],
   "source": [
    "# SGDClassifier\n",
    "SGDC= SGDClassifier()\n",
    "\n",
    "param_grid = {\n",
    "    'learning_rate':['optimal'],\n",
    "    'alpha':[0.0001, 0.0003, 0.001, 0.003, 0.1, 0.3, 1.0, 3.0],\n",
    "    'max_iter':[3,5,7,10,15],\n",
    "}\n",
    "\n",
    "gsSGDC = GridSearchCV(SGDC, param_grid = param_grid, cv=CV, scoring=\"accuracy\", n_jobs= 4, verbose = 1)\n",
    "\n",
    "gsSGDC.fit(X_train_tfidf, y_train)\n",
    "\n",
    "SGDC_best = gsSGDC.best_estimator_\n",
    "\n",
    "gsSGDC.best_score_"
   ]
  },
  {
   "cell_type": "code",
   "execution_count": 180,
   "metadata": {},
   "outputs": [
    {
     "name": "stdout",
     "output_type": "stream",
     "text": [
      "Fitting 5 folds for each of 30 candidates, totalling 150 fits\n"
     ]
    },
    {
     "name": "stderr",
     "output_type": "stream",
     "text": [
      "[Parallel(n_jobs=4)]: Done  42 tasks      | elapsed:   22.5s\n",
      "[Parallel(n_jobs=4)]: Done 150 out of 150 | elapsed:  1.3min finished\n"
     ]
    },
    {
     "data": {
      "text/plain": [
       "0.6754307064277313"
      ]
     },
     "execution_count": 180,
     "metadata": {},
     "output_type": "execute_result"
    }
   ],
   "source": [
    "# PassiveAggressiveClassifier\n",
    "PAC = PassiveAggressiveClassifier()\n",
    "\n",
    "param_grid = {\n",
    "    'C':[0.01, 0.03, 0.1, 0.3, 1.0, 3.0],\n",
    "    'max_iter':[3,5,7,10,15],\n",
    "}\n",
    "\n",
    "gsPAC = GridSearchCV(PAC, param_grid = param_grid, cv=CV, scoring=\"accuracy\", n_jobs= 4, verbose = 1)\n",
    "\n",
    "gsPAC.fit(X_train_tfidf, y_train)\n",
    "\n",
    "PAC_best = gsPAC.best_estimator_\n",
    "\n",
    "gsPAC.best_score_"
   ]
  },
  {
   "cell_type": "markdown",
   "metadata": {},
   "source": [
    "### 2.4 Ensemble modeling"
   ]
  },
  {
   "cell_type": "markdown",
   "metadata": {},
   "source": [
    "First, let's see what three models predict."
   ]
  },
  {
   "cell_type": "code",
   "execution_count": 192,
   "metadata": {},
   "outputs": [
    {
     "data": {
      "image/png": "[encoded data removed]",
      "text/plain": [
       "<matplotlib.figure.Figure at 0x1a182e1780>"
      ]
     },
     "metadata": {},
     "output_type": "display_data"
    }
   ],
   "source": [
    "test_LSVC = pd.Series(LSVC_best.predict(tfidf_transformer.fit_transform(count_vect.transform(X_test))), name=\"LSVC\")\n",
    "test_SGDC = pd.Series(SGDC_best.predict(tfidf_transformer.fit_transform(count_vect.transform(X_test))), name=\"SGDC\")\n",
    "test_PAC = pd.Series(PAC_best.predict(tfidf_transformer.fit_transform(count_vect.transform(X_test))), name=\"PAC\")\n",
    "\n",
    "ensemble_results = pd.concat([test_LSVC,test_SGDC,test_PAC],axis=1)\n",
    "\n",
    "g= sns.heatmap(ensemble_results.corr(),annot=True, cmap = 'BuPu')"
   ]
  },
  {
   "cell_type": "markdown",
   "metadata": {},
   "source": [
    "Almost the same. We put them together with votingClassifier"
   ]
  },
  {
   "cell_type": "code",
   "execution_count": 199,
   "metadata": {},
   "outputs": [],
   "source": [
    "from sklearn.ensemble import VotingClassifier\n",
    "\n",
    "votingC = VotingClassifier(estimators=[('linearSVC', LSVC_best), ('SGDC',SGDC_best), ('PAC',PAC_best)],\n",
    "                           voting='hard', n_jobs=4)\n",
    "\n",
    "votingC = votingC.fit(X_train_tfidf, y_train)"
   ]
  },
  {
   "cell_type": "code",
   "execution_count": 200,
   "metadata": {},
   "outputs": [
    {
     "name": "stdout",
     "output_type": "stream",
     "text": [
      "             precision    recall  f1-score   support\n",
      "\n",
      "          0       0.79      0.85      0.82       107\n",
      "          1       0.57      0.59      0.58       118\n",
      "          2       0.64      0.58      0.61       254\n",
      "          3       0.64      0.77      0.70       575\n",
      "          4       0.68      0.71      0.70       323\n",
      "          5       0.71      0.54      0.61       193\n",
      "          6       0.73      0.66      0.70       327\n",
      "          7       0.68      0.68      0.68       247\n",
      "          8       0.90      0.72      0.80       106\n",
      "          9       0.58      0.57      0.57       522\n",
      "         10       0.82      0.77      0.79       243\n",
      "         11       0.68      0.69      0.68       396\n",
      "         12       0.82      0.85      0.84       203\n",
      "\n",
      "avg / total       0.69      0.68      0.68      3614\n",
      "\n"
     ]
    },
    {
     "name": "stderr",
     "output_type": "stream",
     "text": [
      "/Users/enzoliu/anaconda3/lib/python3.6/site-packages/sklearn/preprocessing/label.py:151: DeprecationWarning: The truth value of an empty array is ambiguous. Returning False, but in future this will result in an error. Use `array.size > 0` to check that an array is not empty.\n",
      "  if diff:\n"
     ]
    }
   ],
   "source": [
    "# get prediction\n",
    "y_pre = votingC.predict(tfidf_transformer.fit_transform(count_vect.transform(X_test)))\n",
    "print(metrics.classification_report(y_test, y_pre))"
   ]
  },
  {
   "cell_type": "markdown",
   "metadata": {},
   "source": [
    "### 2.5 Model Evaluation"
   ]
  },
  {
   "cell_type": "code",
   "execution_count": 201,
   "metadata": {},
   "outputs": [
    {
     "data": {
      "image/png": "[encoded data removed]",
      "text/plain": [
       "<matplotlib.figure.Figure at 0x1a1dbd1518>"
      ]
     },
     "metadata": {},
     "output_type": "display_data"
    }
   ],
   "source": [
    "conf_mat = confusion_matrix(y_test, y_pre)\n",
    "fig, ax = plt.subplots(figsize=(10,10))\n",
    "sns.heatmap(conf_mat, annot=True, fmt='d',\n",
    "           xticklabels=[0,1,2,3,4,5,6,7,8,9,10,11,12],\n",
    "           yticklabels=[0,1,2,3,4,5,6,7,8,9,10,11,12])\n",
    "plt.ylabel('Actual')\n",
    "plt.xlabel('Predicted')\n",
    "plt.show()"
   ]
  },
  {
   "cell_type": "markdown",
   "metadata": {},
   "source": [
    "In this confusion matrix, we can know something important.\n",
    "\n",
    "- Trump(0) : The model tell it from the rests so well !\n",
    "- Politique(1): The model confuses it with Société(9).\n",
    "- Economie(2): The model confuses it with Monde(3), Tech(7), Société(9)\n",
    "- Monde(3): The model confuses it with Société(9) and Plantète(11)\n",
    "- Région(4): The model confuses it with Société(9)\n",
    "- Santé(5): The model confuses it with Société(9) and Plantète(11)\n",
    "- Culture(6): The model confuses it with Société(9) and Plantète(11)\n",
    "- Tech(7): The model confuses it with Société(9) and Plantète(11)\n",
    "- Sport(8): The model tell it from the rests so well !\n",
    "- Société(9): The model almost can't understand it, it puts this kind of tweets everywhere !\n",
    "- Afrique(10), Moyen-orient(12): The model tell it from the rests so well !\n",
    "\n",
    "**In conclusion:** \n",
    "- The model is parfait with Trump(0), Sport(8), Afrique(10), Moyen-orient(12)\n",
    "- The model confuses Plantète(11) with Monde(3), Santé(5), Culture(6) and Tech(7)\n",
    "- The model is bad for Société(9), it puts this kind of tweets everywhere ! ( Politique 1, Economie 2, Monde 3, Région 4)"
   ]
  },
  {
   "cell_type": "markdown",
   "metadata": {},
   "source": [
    "# 3. Exporting Model"
   ]
  },
  {
   "cell_type": "code",
   "execution_count": 195,
   "metadata": {},
   "outputs": [],
   "source": [
    "import pickle\n",
    "\n",
    "save_classifier = open('tweetClassifier.pickle','wb')\n",
    "pickle.dump(votingC, save_classifier)\n",
    "save_classifier.close()"
   ]
  },
  {
   "cell_type": "code",
   "execution_count": 196,
   "metadata": {},
   "outputs": [
    {
     "name": "stdout",
     "output_type": "stream",
     "text": [
      "['.DS_Store', 'textClassification.ipynb', '.ipynb_checkpoints', 'tweetClassifier.pickle', 'data']\n"
     ]
    }
   ],
   "source": [
    "print(os.listdir(\"./\"))"
   ]
  },
  {
   "cell_type": "markdown",
   "metadata": {},
   "source": [
    "**We need to save our CountVectorizer and TfidfTransformer, too**"
   ]
  },
  {
   "cell_type": "code",
   "execution_count": 197,
   "metadata": {},
   "outputs": [
    {
     "name": "stdout",
     "output_type": "stream",
     "text": [
      "['count_vect.pickle', '.DS_Store', 'tweet_precdict.py', 'textClassification.ipynb', '.ipynb_checkpoints', 'tweetClassifier.pickle', 'data']\n"
     ]
    }
   ],
   "source": [
    "save_count_vect = open(\"count_vect.pickle\", 'wb')\n",
    "pickle.dump(count_vect, save_count_vect)\n",
    "save_count_vect.close()\n",
    "print(os.listdir(\"./\"))"
   ]
  },
  {
   "cell_type": "code",
   "execution_count": 198,
   "metadata": {},
   "outputs": [
    {
     "name": "stdout",
     "output_type": "stream",
     "text": [
      "['count_vect.pickle', '.DS_Store', 'tweet_precdict.py', 'textClassification.ipynb', 'tfidf_transformer.pickle', '.ipynb_checkpoints', 'tweetClassifier.pickle', 'data']\n"
     ]
    }
   ],
   "source": [
    "save_tfidf_transformer = open(\"tfidf_transformer.pickle\", \"wb\")\n",
    "pickle.dump(tfidf_transformer, save_tfidf_transformer)\n",
    "save_tfidf_transformer.close()\n",
    "print(os.listdir(\"./\"))"
   ]
  }
 ],
 "metadata": {
  "kernelspec": {
   "display_name": "Python 3",
   "language": "python",
   "name": "python3"
  },
  "language_info": {
   "codemirror_mode": {
    "name": "ipython",
    "version": 3
   },
   "file_extension": ".py",
   "mimetype": "text/x-python",
   "name": "python",
   "nbconvert_exporter": "python",
   "pygments_lexer": "ipython3",
   "version": "3.6.4"
  }
 },
 "nbformat": 4,
 "nbformat_minor": 2
}
